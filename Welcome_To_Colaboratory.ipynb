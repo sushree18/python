{
  "nbformat": 4,
  "nbformat_minor": 0,
  "metadata": {
    "colab": {
      "name": "Welcome To Colaboratory",
      "provenance": [],
      "collapsed_sections": [],
      "include_colab_link": true
    },
    "kernelspec": {
      "display_name": "Python 3",
      "name": "python3"
    }
  },
  "cells": [
    {
      "cell_type": "markdown",
      "metadata": {
        "id": "view-in-github",
        "colab_type": "text"
      },
      "source": [
        "<a href=\"https://colab.research.google.com/github/sushree18/python/blob/main/Welcome_To_Colaboratory.ipynb\" target=\"_parent\"><img src=\"https://colab.research.google.com/assets/colab-badge.svg\" alt=\"Open In Colab\"/></a>"
      ]
    },
    {
      "cell_type": "code",
      "metadata": {
        "colab": {
          "base_uri": "https://localhost:8080/"
        },
        "id": "RmZOfbCSPn4M",
        "outputId": "6af1b15e-2d77-4aee-e26b-686acd224a21"
      },
      "source": [
        "print(type(8))\n",
        "print(type(8.0))\n",
        "\n",
        "x, y = 8, 4\n",
        "print(x, y)\n",
        "\n",
        "x, y = y, x\n",
        "print(x, y)"
      ],
      "execution_count": 2,
      "outputs": [
        {
          "output_type": "stream",
          "text": [
            "<class 'int'>\n",
            "<class 'float'>\n",
            "8 4\n",
            "4 8\n"
          ],
          "name": "stdout"
        }
      ]
    },
    {
      "cell_type": "code",
      "metadata": {
        "colab": {
          "base_uri": "https://localhost:8080/"
        },
        "id": "vkYB05fBRAPg",
        "outputId": "11d74f08-b85e-4c2b-f04b-125c40736f40"
      },
      "source": [
        "divisor, divident = 2, 1\n",
        "ans = divident / divisor\n",
        "print(ans)\n",
        "a, b, c, d = 2, 3, 4, 5\n",
        "\n",
        "ans = a + b * c / d\n",
        "print(ans)\n",
        "\n",
        "# ** is power\n",
        "exp = a ** b\n",
        "print(exp)\n",
        "\n",
        "mod = b % a\n",
        "print(mod)\n",
        "\n",
        "# // returns integer division result\n",
        "intDiv = d // a\n",
        "# / returns float division result\n",
        "div = d / a\n",
        "print(div, intDiv)"
      ],
      "execution_count": 3,
      "outputs": [
        {
          "output_type": "stream",
          "text": [
            "0.5\n",
            "4.4\n",
            "8\n",
            "1\n",
            "2.5 2\n"
          ],
          "name": "stdout"
        }
      ]
    },
    {
      "cell_type": "code",
      "metadata": {
        "colab": {
          "base_uri": "https://localhost:8080/"
        },
        "id": "88-LYrgDRI83",
        "outputId": "bbf7fe1b-a0a6-451d-9e06-f0c49932198e"
      },
      "source": [
        "num = 99\n",
        "print(num * 2)\n",
        "print(num)\n",
        "\n",
        "num *= 2\n",
        "print(num)\n",
        "\n",
        "#Naming Convension\n",
        "#snake_case\n",
        "snake_case = 10\n",
        "\n",
        "#for constants\n",
        "CAPITAL_SNAKE_CASE, PI = 100, 3.14159603\n",
        "#for class\n",
        "class UpperCamelCase:\n",
        "    pass\n",
        "\n",
        "#dunders ('d'ouble 'unders'cores) means something u shouldn't touch\n"
      ],
      "execution_count": 5,
      "outputs": [
        {
          "output_type": "stream",
          "text": [
            "198\n",
            "99\n",
            "198\n"
          ],
          "name": "stdout"
        }
      ]
    },
    {
      "cell_type": "code",
      "metadata": {
        "colab": {
          "base_uri": "https://localhost:8080/"
        },
        "id": "A9PWAJKsS2W_",
        "outputId": "b4ebc97d-b90b-43ff-b794-4c64e78d5b08"
      },
      "source": [
        "#bool\n",
        "is_active = True\n",
        "inactive = not is_active\n",
        "print(is_active)\n",
        "print(not is_active)\n",
        "print(inactive)\n",
        "print(not inactive)\n",
        "\n",
        "#str\n",
        "some_string = \"hello i am guddi!\"\n",
        "print(some_string)\n",
        "\n",
        "#list\n",
        "my_number = [1, 2, 4, 3]\n",
        "print(my_number)\n",
        "print(my_number[2])\n",
        "\n",
        "#dict\n",
        "my_name = {'first_name': \"sushree\", 'last_name': \"nayak\"}\n",
        "print(my_name)\n",
        "print(my_name['first_name'])\n",
        "print(my_name['last_name'])"
      ],
      "execution_count": 13,
      "outputs": [
        {
          "output_type": "stream",
          "text": [
            "True\n",
            "False\n",
            "False\n",
            "True\n",
            "hello i am guddi!\n",
            "[1, 2, 4, 3]\n",
            "4\n",
            "{'first_name': 'sushree', 'last_name': 'nayak'}\n",
            "sushree\n",
            "nayak\n"
          ],
          "name": "stdout"
        }
      ]
    },
    {
      "cell_type": "code",
      "metadata": {
        "colab": {
          "base_uri": "https://localhost:8080/"
        },
        "id": "TzLhyymvYDJS",
        "outputId": "08ca7793-be45-45dc-ece1-c1cb3f2f34e0"
      },
      "source": [
        "game_over = True\n",
        "print(game_over)\n",
        "\n",
        "game_over = \"Yes, it's over!\"\n",
        "print(game_over)\n",
        "\n",
        "game_over = 22/7\n",
        "print(game_over)\n",
        "\n",
        "#None is nothing\n",
        "game_over = None\n",
        "print(game_over)\n",
        "print(type(game_over))"
      ],
      "execution_count": 19,
      "outputs": [
        {
          "output_type": "stream",
          "text": [
            "True\n",
            "Yes, it's over!\n",
            "3.142857142857143\n",
            "None\n",
            "<class 'NoneType'>\n"
          ],
          "name": "stdout"
        }
      ]
    },
    {
      "cell_type": "code",
      "metadata": {
        "id": "4D3_nCNSflRi",
        "outputId": "c996ade4-10df-4c1f-b378-a00e84bf97ea",
        "colab": {
          "base_uri": "https://localhost:8080/"
        }
      },
      "source": [
        "single_qoute = 'hello'\n",
        "double_qoute = \"hello\"\n",
        "print(single_qoute)\n",
        "print(double_qoute)\n",
        "\n",
        "qoute = 'he said, \"hello there!\"'\n",
        "print(qoute)\n",
        "qoute = \"he said, 'hello there'\"\n",
        "print(qoute)\n",
        "\n",
        "qoute = \"he said, \\\"hello there!\\\"\"\n",
        "print(qoute)\n",
        "\n",
        "#string concatenation\n",
        "username = \"mhkm\"\n",
        "msg = \"Hello \" + username\n",
        "print(msg)\n",
        "\n",
        "#Formatting String\n",
        "name = \"Humayun\"\n",
        "msg = f\"Hello Mr. {name} Welcome!\"\n",
        "msg2 = \"Hello Mr. {} Welcome!\".format(name)\n",
        "print(msg)\n",
        "print(msg2)"
      ],
      "execution_count": 22,
      "outputs": [
        {
          "output_type": "stream",
          "text": [
            "hello\n",
            "hello\n",
            "he said, \"hello there!\"\n",
            "he said, 'hello there'\n",
            "he said, \"hello there!\"\n",
            "Hello mhkm\n",
            "Hello Mr. Humayun Welcome!\n",
            "Hello Mr. Humayun Welcome!\n"
          ],
          "name": "stdout"
        }
      ]
    },
    {
      "cell_type": "code",
      "metadata": {
        "id": "i4FczJI1f24y",
        "outputId": "ed45cb47-5a8a-49fd-eca7-54d0072c39d9",
        "colab": {
          "base_uri": "https://localhost:8080/"
        }
      },
      "source": [
        "intx = 11\n",
        "print(type(intx))\n",
        "\n",
        "floatx = float(intx)\n",
        "print(floatx)"
      ],
      "execution_count": 26,
      "outputs": [
        {
          "output_type": "stream",
          "text": [
            "<class 'int'>\n",
            "11.0\n"
          ],
          "name": "stdout"
        }
      ]
    },
    {
      "cell_type": "code",
      "metadata": {
        "id": "cHg33ckOiT1U",
        "outputId": "fdeb67a5-1e9e-40c4-ea36-d991dfbd5bc3",
        "colab": {
          "base_uri": "https://localhost:8080/"
        }
      },
      "source": [
        "print(\"How many KM did you cycle today?\")\n",
        "# by default input return string input\n",
        "kms = float(input())\n",
        "miles = kms/1.61\n",
        "# precisions\n",
        "miles = round(miles, 3)\n",
        "print(f\"Your {kms} KM is {miles} Miles\")"
      ],
      "execution_count": 27,
      "outputs": [
        {
          "output_type": "stream",
          "text": [
            "How many KM did you cycle today?\n",
            "8\n",
            "Your 8.0 KM is 4.969 Miles\n"
          ],
          "name": "stdout"
        }
      ]
    },
    {
      "cell_type": "code",
      "metadata": {
        "id": "x2jSlOooivUR",
        "outputId": "710c4b10-6822-47e5-d004-12944df3d2dd",
        "colab": {
          "base_uri": "https://localhost:8080/"
        }
      },
      "source": [
        "print(\"What's your favorite color?\")\n",
        "color = input()\n",
        "print(\"Your color is: \" + color)"
      ],
      "execution_count": 28,
      "outputs": [
        {
          "output_type": "stream",
          "text": [
            "What's your favorite color?\n",
            "blue,pink\n",
            "Your color is: blue,pink\n"
          ],
          "name": "stdout"
        }
      ]
    },
    {
      "cell_type": "code",
      "metadata": {
        "id": "L_FGi6EojEjm",
        "outputId": "6dd8980a-7018-4e55-9d88-6b5e7e88a795",
        "colab": {
          "base_uri": "https://localhost:8080/"
        }
      },
      "source": [
        "name = \"guddi\"\n",
        "\n",
        "if name is \"guddi\":\n",
        "    print(\"First Name\")\n",
        "elif name is \"gudiya\":\n",
        "    print(\"Last Name\")\n",
        "else:\n",
        "    print(\"Wrong Name\")\n",
        "\n",
        "name = \"gudiya\"\n",
        "if name == \"guddi\":\n",
        "    print(\"First Name\")\n",
        "elif name == \"gudiya\":\n",
        "    print(\"Last Name\")\n",
        "else:\n",
        "    print(\"Wrong Name\")"
      ],
      "execution_count": 39,
      "outputs": [
        {
          "output_type": "stream",
          "text": [
            "First Name\n",
            "Last Name\n"
          ],
          "name": "stdout"
        }
      ]
    },
    {
      "cell_type": "code",
      "metadata": {
        "id": "S7xtWLGOjW8O",
        "outputId": "5ba5e5cf-4143-4947-8d44-58fb1b31e292",
        "colab": {
          "base_uri": "https://localhost:8080/"
        }
      },
      "source": [
        "print(\"Give a rating on my work(out of 5)!\")\n",
        "rate = int(input())\n",
        "\n",
        "if rate is 5:\n",
        "    print(\"Excellent\")\n",
        "elif rate is 4:\n",
        "    print(\"Very Good\")\n",
        "elif rate is 3:\n",
        "    print(\"Good\")\n",
        "elif rate is 2:\n",
        "    print(\"Not Good\")\n",
        "elif rate is 1:\n",
        "    print(\"Bad\")\n",
        "else:\n",
        "    print(\"Rating should be in 1 to 5\")"
      ],
      "execution_count": 43,
      "outputs": [
        {
          "output_type": "stream",
          "text": [
            "Give a rating on my work(out of 5)!\n",
            "4\n",
            "Very Good\n"
          ],
          "name": "stdout"
        }
      ]
    },
    {
      "cell_type": "code",
      "metadata": {
        "id": "KOWMBS30mfeC",
        "outputId": "8e3c6fb3-d3bb-4687-ca52-2d8ab092621d",
        "colab": {
          "base_uri": "https://localhost:8080/"
        }
      },
      "source": [
        "age, sex = 20, \"Female\"\n",
        "\n",
        "if age > 19 and sex is \"Female\":\n",
        "    print(\"Go and Get Marry\")\n",
        "else:\n",
        "    print(\"You don't have marry\")\n"
      ],
      "execution_count": 49,
      "outputs": [
        {
          "output_type": "stream",
          "text": [
            "Go and Get Marry\n"
          ],
          "name": "stdout"
        }
      ]
    },
    {
      "cell_type": "code",
      "metadata": {
        "id": "-xSdPGTwnHb-",
        "outputId": "64a25fa6-ed90-4c92-a954-ef1cddfcabd9",
        "colab": {
          "base_uri": "https://localhost:8080/"
        }
      },
      "source": [
        "import random\n",
        "\n",
        "print(\"Rock...\")\n",
        "print(\"Paper...\")\n",
        "print(\"Scissor...\")\n",
        "\n",
        "options = [\"rock\", \"papers\", \"scissors\"]\n",
        "print(\"rock:\")\n",
        "me = input()\n",
        "\n",
        "rand = random.randint(0, 2)\n",
        "pc = options[rand]\n",
        "\n",
        "player_one = me\n",
        "player_two = pc\n",
        "\n",
        "print(f\"You Choose: {me}, PC choose {pc}\")\n",
        "\n",
        "if player_one == player_two:\n",
        "    print(\"Draw\")\n",
        "elif player_one == \"rock\":\n",
        "    if player_two == \"scissors\":\n",
        "        print(\"You WON!\")\n",
        "    elif player_two == \"papers\":\n",
        "        print(\"PC WON!\")\n",
        "elif player_one == \"papers\":\n",
        "    if player_two == \"rock\":\n",
        "        print(\"You WON!\")\n",
        "    elif player_two == \"scissors\":\n",
        "        print(\"PC WON!\")\n",
        "elif player_one == \"scissors\":\n",
        "    if player_two == \"rock\":\n",
        "        print(\"PC WON!\")\n",
        "    elif player_two == \"papers\":\n",
        "        print(\"You WON\")\n",
        "else:\n",
        "    print(\"Something Wrong!\")"
      ],
      "execution_count": 51,
      "outputs": [
        {
          "output_type": "stream",
          "text": [
            "Rock...\n",
            "Paper...\n",
            "Scissor...\n",
            "rock:\n",
            "Rock\n",
            "You Choose: Rock, PC choose rock\n",
            "Something Wrong!\n"
          ],
          "name": "stdout"
        }
      ]
    },
    {
      "cell_type": "code",
      "metadata": {
        "id": "tVueuQHQoMf7",
        "outputId": "83356180-141f-4ebf-cb9a-1c9fc0c5b66d",
        "colab": {
          "base_uri": "https://localhost:8080/"
        }
      },
      "source": [
        "name = \"musa\"\n",
        "\n",
        "for char in name:\n",
        "    print(char)\n",
        "\n",
        "# range(a, b, c): >=a to < b, c is the weight of each step[optional]\n",
        "for number in range(-3, 5, 2):\n",
        "    print(number)\n",
        "\n",
        "prices = [10, 12, 15, 9, 11, 13]\n",
        "\n",
        "for price in prices:\n",
        "    print(price)\n",
        "\n",
        "for _ in range(4):\n",
        "    print(\"lol\")\n"
      ],
      "execution_count": 52,
      "outputs": [
        {
          "output_type": "stream",
          "text": [
            "m\n",
            "u\n",
            "s\n",
            "a\n",
            "-3\n",
            "-1\n",
            "1\n",
            "3\n",
            "10\n",
            "12\n",
            "15\n",
            "9\n",
            "11\n",
            "13\n",
            "lol\n",
            "lol\n",
            "lol\n",
            "lol\n"
          ],
          "name": "stdout"
        }
      ]
    },
    {
      "cell_type": "code",
      "metadata": {
        "id": "bu9UOK5mp0ba"
      },
      "source": [
        ""
      ],
      "execution_count": null,
      "outputs": []
    }
  ]
}